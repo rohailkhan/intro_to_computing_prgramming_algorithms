{
  "nbformat": 4,
  "nbformat_minor": 0,
  "metadata": {
    "colab": {
      "name": "Chapter 3 . Intro to Computing and programming using Python",
      "provenance": [],
      "mount_file_id": "1ALRaWp9Sosx9k0vo-TPEzkaKp_mlJGFF",
      "authorship_tag": "ABX9TyOCPLMxwUmUH5jTOEA3udjD",
      "include_colab_link": true
    },
    "kernelspec": {
      "name": "python3",
      "display_name": "Python 3"
    }
  },
  "cells": [
    {
      "cell_type": "markdown",
      "metadata": {
        "id": "view-in-github",
        "colab_type": "text"
      },
      "source": [
        "<a href=\"https://colab.research.google.com/github/rohailkhan/intro_to_computing_prgramming_algorithms/blob/master/Chapter_3_Intro_to_Computing_and_programming_using_Python.ipynb\" target=\"_parent\"><img src=\"https://colab.research.google.com/assets/colab-badge.svg\" alt=\"Open In Colab\"/></a>"
      ]
    },
    {
      "cell_type": "code",
      "metadata": {
        "id": "niNA6BcYV0Ro",
        "colab_type": "code",
        "colab": {}
      },
      "source": [
        "# pip install https://raw.githubusercontent.com/jminz/graphics.py/master/graphics-py_installer.tar.gz"
      ],
      "execution_count": null,
      "outputs": []
    },
    {
      "cell_type": "markdown",
      "metadata": {
        "id": "lUf_fq5TDNBG",
        "colab_type": "text"
      },
      "source": [
        "# Find cube (using while loop)\n",
        "x =27 ans=2^3\n",
        "x=8  ans=2^3\n",
        "\n",
        "so we see x is perfect cube if ans^3=x\n",
        "\n",
        "also we cant go above ans^3 >x\n",
        "so use while loop now\n",
        "# remember Dont do intendation in if when its used afte the While"
      ]
    },
    {
      "cell_type": "code",
      "metadata": {
        "id": "ilE3-Js8DLWw",
        "colab_type": "code",
        "colab": {}
      },
      "source": [
        "x=int(input('enter a number'))\n",
        "ans=0\n",
        "while ans**3 < x:\n",
        "  ans=ans+1\n",
        "if ans**3!=x:\n",
        "    print('its not a perfect cube')\n",
        "    \n",
        "else:\n",
        "    \n",
        "    print('the root is' + str(ans))\n"
      ],
      "execution_count": null,
      "outputs": []
    },
    {
      "cell_type": "code",
      "metadata": {
        "id": "_L2wYgtLDLLA",
        "colab_type": "code",
        "colab": {}
      },
      "source": [
        ""
      ],
      "execution_count": null,
      "outputs": []
    },
    {
      "cell_type": "code",
      "metadata": {
        "id": "DKPiNa7PDKvO",
        "colab_type": "code",
        "colab": {}
      },
      "source": [
        ""
      ],
      "execution_count": null,
      "outputs": []
    },
    {
      "cell_type": "code",
      "metadata": {
        "id": "xFIXRkBbDKco",
        "colab_type": "code",
        "colab": {}
      },
      "source": [
        ""
      ],
      "execution_count": null,
      "outputs": []
    },
    {
      "cell_type": "markdown",
      "metadata": {
        "id": "e1FpG50CxvmD",
        "colab_type": "text"
      },
      "source": [
        "# Find cube (using while loop)\n",
        "x =27 ans=2^3\n",
        "x=8  ans=2^3\n",
        "\n",
        "so we see x is perfect cube if ans^3=x\n",
        "\n",
        "also we cant go above ans^3 >x\n",
        "so use while loop now"
      ]
    },
    {
      "cell_type": "code",
      "metadata": {
        "id": "upTTWik_RKzq",
        "colab_type": "code",
        "colab": {
          "base_uri": "https://localhost:8080/",
          "height": 53
        },
        "outputId": "a5d4b895-b810-4f03-837a-94376dcf17d1"
      },
      "source": [
        "x=int(input('enter a number'))\n",
        "for ans in range(0, x+1):\n",
        "  if ans**3 >= x:\n",
        "    break\n",
        "if ans**3!=x:\n",
        "  print('not a perfect cube')\n",
        "else:\n",
        "  print('the cube is' + str(ans))\n"
      ],
      "execution_count": null,
      "outputs": [
        {
          "output_type": "stream",
          "text": [
            "enter a number27\n",
            "the cube is3\n"
          ],
          "name": "stdout"
        }
      ]
    },
    {
      "cell_type": "markdown",
      "metadata": {
        "id": "mlw2V9eUy_Oz",
        "colab_type": "text"
      },
      "source": [
        "# Find cube (using for loop)\n",
        "\n",
        "x =27 ans=2^3\n",
        "x=8  ans=2^3\n",
        "\n",
        "so we see x is perfect cube if ans^3=x\n",
        "\n",
        "also we cant go above ans^3 >x\n"
      ]
    },
    {
      "cell_type": "code",
      "metadata": {
        "id": "pKzBDVWWzBbZ",
        "colab_type": "code",
        "colab": {}
      },
      "source": [
        "#Find the cube root of a perfect cube\n",
        "x=int(input('enter a number'))\n",
        "#ans=0\n",
        "for ans in range(0,abs(x)+1):\n",
        "  if ans**3>=abs(x):\n",
        "    break\n",
        "  if ans**3!=abs(x) \n",
        "    print('not perfect square')\n",
        "  else:\n",
        "    if x<0:\n",
        "      ans=-ans\n",
        "    print('cube is={}'.format(ans))"
      ],
      "execution_count": null,
      "outputs": []
    },
    {
      "cell_type": "markdown",
      "metadata": {
        "id": "LXLdUxmuShl7",
        "colab_type": "text"
      },
      "source": [
        "# Getting square root using Exhaustive search\n",
        "x=25\n",
        "guess=0\n",
        "now take a very small value epsilon=0.003\n",
        "also small steps=0.001\n",
        "now start guessing\n",
        "if x^2 - guess>=epsilon...not good\n",
        "if x^2-guess <=epsilon...ok\n",
        "# vimp to use ABS values"
      ]
    },
    {
      "cell_type": "code",
      "metadata": {
        "id": "nJ1g2z2T0SoA",
        "colab_type": "code",
        "colab": {}
      },
      "source": [
        "x=int(input('eneter a number'))\n",
        "guess=0.0\n",
        "epsilon=0.001\n",
        "steps=0.01\n",
        "while abs(guess**2-x)>= epsilon and guess <=x:\n",
        "  guess=guess+steps\n",
        "  print(guess)\n",
        "if (guess**2-x)>=epsilon:\n",
        "    print('fail ') \n",
        "else:\n",
        "    print('the square root' + str(guess))"
      ],
      "execution_count": null,
      "outputs": []
    },
    {
      "cell_type": "code",
      "metadata": {
        "id": "MJ1jlNqSM96g",
        "colab_type": "code",
        "colab": {}
      },
      "source": [
        "x=4\n",
        "epsilon=0.001\n",
        "step=0.01\n",
        "NumGuess=0\n",
        "ans=0.0\n",
        "while abs(ans**2-x)>= epsilon and ans <=x:\n",
        "  ans += step\n",
        "  NumGuess=NumGuess+1\n",
        "  print('num of guesses',NumGuess)\n",
        "  \n",
        "if (ans**2-x)>=epsilon:\n",
        "  print('fail ') \n",
        "else:\n",
        "  print('the square root' + str(ans))"
      ],
      "execution_count": null,
      "outputs": []
    },
    {
      "cell_type": "code",
      "metadata": {
        "id": "3reh6OqEVRq4",
        "colab_type": "code",
        "colab": {}
      },
      "source": [
        "x =4\n",
        "epsilon = 0.02\n",
        "step = 0.01\n",
        "numGuesses = 0\n",
        "ans = 0.0\n",
        "while abs(ans**2 - x) >= epsilon and ans <= x:\n",
        "  ans += step\n",
        "  numGuesses += 1\n",
        "  print('numGuesses =', numGuesses)\n",
        "if abs(ans**2 - x) >= epsilon:\n",
        "  print('Failed on square root of', x)\n",
        "else:\n",
        "  print(ans, 'is close to square root of', x)"
      ],
      "execution_count": null,
      "outputs": []
    },
    {
      "cell_type": "code",
      "metadata": {
        "id": "TK18nm46HBIL",
        "colab_type": "code",
        "colab": {
          "base_uri": "https://localhost:8080/",
          "height": 35
        },
        "outputId": "ac531ded-cb0c-42be-d1fd-fe11f0133a42"
      },
      "source": [
        "k=36\n",
        "low=0.0\n",
        "#high=max(low,k)\n",
        "high=k\n",
        "\n",
        "mid_sq=mid*mid\n",
        "for i in range(0,k):\n",
        "  mid=(low+high)//2\n",
        "  if mid_sq<=k:\n",
        "    low=mid+1\n",
        "  else:\n",
        "    high=mid-1\n",
        "  \n",
        "print(low-1)"
      ],
      "execution_count": 4,
      "outputs": [
        {
          "output_type": "stream",
          "text": [
            "-1.0\n"
          ],
          "name": "stdout"
        }
      ]
    },
    {
      "cell_type": "code",
      "metadata": {
        "id": "hr0wHed0IVVO",
        "colab_type": "code",
        "colab": {}
      },
      "source": [
        "def sq(k):\n",
        "  low=0.0\n",
        "  high=k\n",
        "  "
      ],
      "execution_count": null,
      "outputs": []
    },
    {
      "cell_type": "markdown",
      "metadata": {
        "id": "z_OhvjmFSy9g",
        "colab_type": "text"
      },
      "source": [
        "# Using bisection to find the square root\n",
        "\n",
        "https://www.youtube.com/watch?v=plbSgfLCt74&list=PL5tcWHG-UPH2z37EqS0v6JnSqqe4ELqga&index=8&t=319s "
      ]
    },
    {
      "cell_type": "code",
      "metadata": {
        "id": "GODqhy7WlLZF",
        "colab_type": "code",
        "colab": {}
      },
      "source": [
        "def square_root(k):\n",
        "  low=0.0\n",
        "  high=k\n",
        "\n",
        "  while low<=k:\n",
        "      mid=(low+high)//2\n",
        "      mid_square=mid*mid\n",
        "      if mid_square <=k:\n",
        "            low=mid+1\n",
        "      else:\n",
        "        high=mid-1\n",
        "  return low-1"
      ],
      "execution_count": 10,
      "outputs": []
    },
    {
      "cell_type": "code",
      "metadata": {
        "id": "wublLqdYmFHK",
        "colab_type": "code",
        "colab": {}
      },
      "source": [
        "square_root(16)"
      ],
      "execution_count": null,
      "outputs": []
    },
    {
      "cell_type": "markdown",
      "metadata": {
        "id": "gdS2iHvPn9WN",
        "colab_type": "text"
      },
      "source": [
        "# Using more accuracy"
      ]
    },
    {
      "cell_type": "code",
      "metadata": {
        "id": "eDm1hU6qfMu9",
        "colab_type": "code",
        "colab": {}
      },
      "source": [
        "x = 25\n",
        "epsilon = 0.01\n",
        "numGuesses = 0\n",
        "low = 0.0\n",
        "high = max(1.0, x)\n",
        "ans = (high + low)/2.0\n",
        "while abs(ans**2 - x) >= epsilon:\n",
        "print('low =', low, 'high =', high, 'ans =', ans)\n",
        "numGuesses += 1\n",
        "if ans**2 < x:\n",
        "low = ans\n",
        "else:\n",
        "high = ans\n",
        "ans = (high + low)/2.0\n",
        "print('numGuesses =', numGuesses)\n",
        "print(ans, 'is close to square root of', x)"
      ],
      "execution_count": null,
      "outputs": []
    },
    {
      "cell_type": "code",
      "metadata": {
        "id": "B1xxS2h6fNaF",
        "colab_type": "code",
        "colab": {}
      },
      "source": [
        ""
      ],
      "execution_count": null,
      "outputs": []
    },
    {
      "cell_type": "code",
      "metadata": {
        "id": "mz3NGmb1fNfP",
        "colab_type": "code",
        "colab": {}
      },
      "source": [
        ""
      ],
      "execution_count": null,
      "outputs": []
    },
    {
      "cell_type": "code",
      "metadata": {
        "id": "qEwm-ihaS2MV",
        "colab_type": "code",
        "colab": {
          "base_uri": "https://localhost:8080/",
          "height": 290
        },
        "outputId": "1bf93dc1-d349-41c3-ec6d-cb84ad946bcb"
      },
      "source": [
        "x = 25\n",
        "epsilon = 0.01\n",
        "numGuesses = 0\n",
        "low = 0.0\n",
        "high = max(1.0, x) # eg max(1 ,25) =25\n",
        "ans = (high + low)/2.0    # ans=(25+0)/2=12.5....if NOT ans^2<x then high=ans i.e high=12.5 so new answer=(12.5+0)/2\n",
        "\n",
        "\n",
        "while abs(ans**2 - x) >= epsilon:\n",
        "  print('low =', low, 'high =', high, 'ans =', ans)\n",
        "  numGuesses += 1\n",
        "  if ans**2 < x:\n",
        "    low = ans\n",
        "  else:\n",
        "    high = ans\n",
        "  ans = (high + low)/2.0\n",
        "print('numGuesses =', numGuesses)\n",
        "print(ans, 'is close to square root of', x)"
      ],
      "execution_count": null,
      "outputs": [
        {
          "output_type": "stream",
          "text": [
            "low = 0.0 high = 25 ans = 12.5\n",
            "low = 0.0 high = 12.5 ans = 6.25\n",
            "low = 0.0 high = 6.25 ans = 3.125\n",
            "low = 3.125 high = 6.25 ans = 4.6875\n",
            "low = 4.6875 high = 6.25 ans = 5.46875\n",
            "low = 4.6875 high = 5.46875 ans = 5.078125\n",
            "low = 4.6875 high = 5.078125 ans = 4.8828125\n",
            "low = 4.8828125 high = 5.078125 ans = 4.98046875\n",
            "low = 4.98046875 high = 5.078125 ans = 5.029296875\n",
            "low = 4.98046875 high = 5.029296875 ans = 5.0048828125\n",
            "low = 4.98046875 high = 5.0048828125 ans = 4.99267578125\n",
            "low = 4.99267578125 high = 5.0048828125 ans = 4.998779296875\n",
            "low = 4.998779296875 high = 5.0048828125 ans = 5.0018310546875\n",
            "numGuesses = 13\n",
            "5.00030517578125 is close to square root of 25\n"
          ],
          "name": "stdout"
        }
      ]
    },
    {
      "cell_type": "code",
      "metadata": {
        "id": "v7cFZSmXS2GJ",
        "colab_type": "code",
        "colab": {}
      },
      "source": [
        ""
      ],
      "execution_count": null,
      "outputs": []
    },
    {
      "cell_type": "code",
      "metadata": {
        "id": "aho4mis6xQzf",
        "colab_type": "code",
        "colab": {
          "base_uri": "https://localhost:8080/",
          "height": 53
        },
        "outputId": "755a8b8a-9e0d-4cca-a7e1-5453966029ba"
      },
      "source": [
        "x=27\n",
        "ans=3\n",
        "print(ans**3)\n",
        "print(abs(x))"
      ],
      "execution_count": null,
      "outputs": [
        {
          "output_type": "stream",
          "text": [
            "27\n",
            "27\n"
          ],
          "name": "stdout"
        }
      ]
    },
    {
      "cell_type": "code",
      "metadata": {
        "id": "5LIBSZDPAujM",
        "colab_type": "code",
        "colab": {
          "base_uri": "https://localhost:8080/",
          "height": 72
        },
        "outputId": "828370e3-0308-471b-cb00-1a200b44d204"
      },
      "source": [
        "#Find the cube root of a perfect cube\n",
        "x = int(input('Enter an integer: '))\n",
        "for ans in range(0, abs(x)+1):\n",
        "  if ans**3 >= abs(x):\n",
        "    break\n",
        "if ans**3 != abs(x):\n",
        "    print(x, 'is not a perfect cube')\n",
        "else:\n",
        "    if x < 0:\n",
        "      ans = -ans\n",
        "print('Cube root of', x,'is', ans)"
      ],
      "execution_count": null,
      "outputs": [
        {
          "output_type": "stream",
          "text": [
            "Enter an integer: 7\n",
            "7 is not a perfect cube\n",
            "Cube root of 7 is 2\n"
          ],
          "name": "stdout"
        }
      ]
    },
    {
      "cell_type": "code",
      "metadata": {
        "id": "uTc3DX4-DapI",
        "colab_type": "code",
        "colab": {}
      },
      "source": [
        "def findRoot(x, power, epsilon):\n",
        "  if x < 0 and power%2 == 0: \n",
        "    return None\n",
        "    low = min(-1.0, x)\n",
        "  high = max(1.0, x)\n",
        "  ans = (high + low)/2.0\n",
        "  while abs(ans**power - x) >= epsilon:\n",
        "    if ans**power < x:\n",
        "      low = ans\n",
        "    else:\n",
        "      high = ans\n",
        "    ans = (high + low)/2.0\n",
        "  return ans"
      ],
      "execution_count": null,
      "outputs": []
    }
  ]
}